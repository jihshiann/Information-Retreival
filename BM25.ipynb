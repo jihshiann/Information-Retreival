{
  "cells": [
    {
      "cell_type": "code",
      "execution_count": 1,
      "metadata": {
        "colab": {
          "base_uri": "https://localhost:8080/"
        },
        "id": "LP4oM3j5evRA",
        "outputId": "e3f9c2ef-be4a-42a6-cc71-f79f7163fcf6"
      },
      "outputs": [
        {
          "output_type": "stream",
          "name": "stdout",
          "text": [
            "Requirement already satisfied: pyserini in /usr/local/lib/python3.10/dist-packages (0.35.0)\n",
            "Requirement already satisfied: Cython>=0.29.21 in /usr/local/lib/python3.10/dist-packages (from pyserini) (3.0.10)\n",
            "Requirement already satisfied: numpy>=1.18.1 in /usr/local/lib/python3.10/dist-packages (from pyserini) (1.25.2)\n",
            "Requirement already satisfied: pandas>=1.4.0 in /usr/local/lib/python3.10/dist-packages (from pyserini) (2.0.3)\n",
            "Requirement already satisfied: pyjnius>=1.4.0 in /usr/local/lib/python3.10/dist-packages (from pyserini) (1.6.1)\n",
            "Requirement already satisfied: scikit-learn>=0.22.1 in /usr/local/lib/python3.10/dist-packages (from pyserini) (1.2.2)\n",
            "Requirement already satisfied: scipy>=1.4.1 in /usr/local/lib/python3.10/dist-packages (from pyserini) (1.11.4)\n",
            "Requirement already satisfied: tqdm in /usr/local/lib/python3.10/dist-packages (from pyserini) (4.66.2)\n",
            "Requirement already satisfied: transformers>=4.6.0 in /usr/local/lib/python3.10/dist-packages (from pyserini) (4.38.2)\n",
            "Requirement already satisfied: sentencepiece>=0.1.95 in /usr/local/lib/python3.10/dist-packages (from pyserini) (0.1.99)\n",
            "Requirement already satisfied: nmslib>=2.1.1 in /usr/local/lib/python3.10/dist-packages (from pyserini) (2.1.1)\n",
            "Requirement already satisfied: onnxruntime>=1.8.1 in /usr/local/lib/python3.10/dist-packages (from pyserini) (1.17.3)\n",
            "Requirement already satisfied: lightgbm>=3.3.2 in /usr/local/lib/python3.10/dist-packages (from pyserini) (4.1.0)\n",
            "Requirement already satisfied: spacy>=3.2.1 in /usr/local/lib/python3.10/dist-packages (from pyserini) (3.7.4)\n",
            "Requirement already satisfied: pyyaml in /usr/local/lib/python3.10/dist-packages (from pyserini) (6.0.1)\n",
            "Requirement already satisfied: openai>=1.0.0 in /usr/local/lib/python3.10/dist-packages (from pyserini) (1.20.0)\n",
            "Requirement already satisfied: tiktoken>=0.4.0 in /usr/local/lib/python3.10/dist-packages (from pyserini) (0.6.0)\n",
            "Requirement already satisfied: pyarrow>=15.0.0 in /usr/local/lib/python3.10/dist-packages (from pyserini) (15.0.2)\n",
            "Requirement already satisfied: pillow>=10.2.0 in /usr/local/lib/python3.10/dist-packages (from pyserini) (10.3.0)\n",
            "Requirement already satisfied: pybind11<2.6.2 in /usr/local/lib/python3.10/dist-packages (from nmslib>=2.1.1->pyserini) (2.6.1)\n",
            "Requirement already satisfied: psutil in /usr/local/lib/python3.10/dist-packages (from nmslib>=2.1.1->pyserini) (5.9.5)\n",
            "Requirement already satisfied: coloredlogs in /usr/local/lib/python3.10/dist-packages (from onnxruntime>=1.8.1->pyserini) (15.0.1)\n",
            "Requirement already satisfied: flatbuffers in /usr/local/lib/python3.10/dist-packages (from onnxruntime>=1.8.1->pyserini) (24.3.25)\n",
            "Requirement already satisfied: packaging in /usr/local/lib/python3.10/dist-packages (from onnxruntime>=1.8.1->pyserini) (24.0)\n",
            "Requirement already satisfied: protobuf in /usr/local/lib/python3.10/dist-packages (from onnxruntime>=1.8.1->pyserini) (3.20.3)\n",
            "Requirement already satisfied: sympy in /usr/local/lib/python3.10/dist-packages (from onnxruntime>=1.8.1->pyserini) (1.12)\n",
            "Requirement already satisfied: anyio<5,>=3.5.0 in /usr/local/lib/python3.10/dist-packages (from openai>=1.0.0->pyserini) (3.7.1)\n",
            "Requirement already satisfied: distro<2,>=1.7.0 in /usr/lib/python3/dist-packages (from openai>=1.0.0->pyserini) (1.7.0)\n",
            "Requirement already satisfied: httpx<1,>=0.23.0 in /usr/local/lib/python3.10/dist-packages (from openai>=1.0.0->pyserini) (0.27.0)\n",
            "Requirement already satisfied: pydantic<3,>=1.9.0 in /usr/local/lib/python3.10/dist-packages (from openai>=1.0.0->pyserini) (2.6.4)\n",
            "Requirement already satisfied: sniffio in /usr/local/lib/python3.10/dist-packages (from openai>=1.0.0->pyserini) (1.3.1)\n",
            "Requirement already satisfied: typing-extensions<5,>=4.7 in /usr/local/lib/python3.10/dist-packages (from openai>=1.0.0->pyserini) (4.11.0)\n",
            "Requirement already satisfied: python-dateutil>=2.8.2 in /usr/local/lib/python3.10/dist-packages (from pandas>=1.4.0->pyserini) (2.8.2)\n",
            "Requirement already satisfied: pytz>=2020.1 in /usr/local/lib/python3.10/dist-packages (from pandas>=1.4.0->pyserini) (2023.4)\n",
            "Requirement already satisfied: tzdata>=2022.1 in /usr/local/lib/python3.10/dist-packages (from pandas>=1.4.0->pyserini) (2024.1)\n",
            "Requirement already satisfied: joblib>=1.1.1 in /usr/local/lib/python3.10/dist-packages (from scikit-learn>=0.22.1->pyserini) (1.4.0)\n",
            "Requirement already satisfied: threadpoolctl>=2.0.0 in /usr/local/lib/python3.10/dist-packages (from scikit-learn>=0.22.1->pyserini) (3.4.0)\n",
            "Requirement already satisfied: spacy-legacy<3.1.0,>=3.0.11 in /usr/local/lib/python3.10/dist-packages (from spacy>=3.2.1->pyserini) (3.0.12)\n",
            "Requirement already satisfied: spacy-loggers<2.0.0,>=1.0.0 in /usr/local/lib/python3.10/dist-packages (from spacy>=3.2.1->pyserini) (1.0.5)\n",
            "Requirement already satisfied: murmurhash<1.1.0,>=0.28.0 in /usr/local/lib/python3.10/dist-packages (from spacy>=3.2.1->pyserini) (1.0.10)\n",
            "Requirement already satisfied: cymem<2.1.0,>=2.0.2 in /usr/local/lib/python3.10/dist-packages (from spacy>=3.2.1->pyserini) (2.0.8)\n",
            "Requirement already satisfied: preshed<3.1.0,>=3.0.2 in /usr/local/lib/python3.10/dist-packages (from spacy>=3.2.1->pyserini) (3.0.9)\n",
            "Requirement already satisfied: thinc<8.3.0,>=8.2.2 in /usr/local/lib/python3.10/dist-packages (from spacy>=3.2.1->pyserini) (8.2.3)\n",
            "Requirement already satisfied: wasabi<1.2.0,>=0.9.1 in /usr/local/lib/python3.10/dist-packages (from spacy>=3.2.1->pyserini) (1.1.2)\n",
            "Requirement already satisfied: srsly<3.0.0,>=2.4.3 in /usr/local/lib/python3.10/dist-packages (from spacy>=3.2.1->pyserini) (2.4.8)\n",
            "Requirement already satisfied: catalogue<2.1.0,>=2.0.6 in /usr/local/lib/python3.10/dist-packages (from spacy>=3.2.1->pyserini) (2.0.10)\n",
            "Requirement already satisfied: weasel<0.4.0,>=0.1.0 in /usr/local/lib/python3.10/dist-packages (from spacy>=3.2.1->pyserini) (0.3.4)\n",
            "Requirement already satisfied: typer<0.10.0,>=0.3.0 in /usr/local/lib/python3.10/dist-packages (from spacy>=3.2.1->pyserini) (0.9.4)\n",
            "Requirement already satisfied: smart-open<7.0.0,>=5.2.1 in /usr/local/lib/python3.10/dist-packages (from spacy>=3.2.1->pyserini) (6.4.0)\n",
            "Requirement already satisfied: requests<3.0.0,>=2.13.0 in /usr/local/lib/python3.10/dist-packages (from spacy>=3.2.1->pyserini) (2.31.0)\n",
            "Requirement already satisfied: jinja2 in /usr/local/lib/python3.10/dist-packages (from spacy>=3.2.1->pyserini) (3.1.3)\n",
            "Requirement already satisfied: setuptools in /usr/local/lib/python3.10/dist-packages (from spacy>=3.2.1->pyserini) (67.7.2)\n",
            "Requirement already satisfied: langcodes<4.0.0,>=3.2.0 in /usr/local/lib/python3.10/dist-packages (from spacy>=3.2.1->pyserini) (3.3.0)\n",
            "Requirement already satisfied: regex>=2022.1.18 in /usr/local/lib/python3.10/dist-packages (from tiktoken>=0.4.0->pyserini) (2023.12.25)\n",
            "Requirement already satisfied: filelock in /usr/local/lib/python3.10/dist-packages (from transformers>=4.6.0->pyserini) (3.13.4)\n",
            "Requirement already satisfied: huggingface-hub<1.0,>=0.19.3 in /usr/local/lib/python3.10/dist-packages (from transformers>=4.6.0->pyserini) (0.20.3)\n",
            "Requirement already satisfied: tokenizers<0.19,>=0.14 in /usr/local/lib/python3.10/dist-packages (from transformers>=4.6.0->pyserini) (0.15.2)\n",
            "Requirement already satisfied: safetensors>=0.4.1 in /usr/local/lib/python3.10/dist-packages (from transformers>=4.6.0->pyserini) (0.4.2)\n",
            "Requirement already satisfied: idna>=2.8 in /usr/local/lib/python3.10/dist-packages (from anyio<5,>=3.5.0->openai>=1.0.0->pyserini) (3.6)\n",
            "Requirement already satisfied: exceptiongroup in /usr/local/lib/python3.10/dist-packages (from anyio<5,>=3.5.0->openai>=1.0.0->pyserini) (1.2.0)\n",
            "Requirement already satisfied: certifi in /usr/local/lib/python3.10/dist-packages (from httpx<1,>=0.23.0->openai>=1.0.0->pyserini) (2024.2.2)\n",
            "Requirement already satisfied: httpcore==1.* in /usr/local/lib/python3.10/dist-packages (from httpx<1,>=0.23.0->openai>=1.0.0->pyserini) (1.0.5)\n",
            "Requirement already satisfied: h11<0.15,>=0.13 in /usr/local/lib/python3.10/dist-packages (from httpcore==1.*->httpx<1,>=0.23.0->openai>=1.0.0->pyserini) (0.14.0)\n",
            "Requirement already satisfied: fsspec>=2023.5.0 in /usr/local/lib/python3.10/dist-packages (from huggingface-hub<1.0,>=0.19.3->transformers>=4.6.0->pyserini) (2023.6.0)\n",
            "Requirement already satisfied: annotated-types>=0.4.0 in /usr/local/lib/python3.10/dist-packages (from pydantic<3,>=1.9.0->openai>=1.0.0->pyserini) (0.6.0)\n",
            "Requirement already satisfied: pydantic-core==2.16.3 in /usr/local/lib/python3.10/dist-packages (from pydantic<3,>=1.9.0->openai>=1.0.0->pyserini) (2.16.3)\n",
            "Requirement already satisfied: six>=1.5 in /usr/local/lib/python3.10/dist-packages (from python-dateutil>=2.8.2->pandas>=1.4.0->pyserini) (1.16.0)\n",
            "Requirement already satisfied: charset-normalizer<4,>=2 in /usr/local/lib/python3.10/dist-packages (from requests<3.0.0,>=2.13.0->spacy>=3.2.1->pyserini) (3.3.2)\n",
            "Requirement already satisfied: urllib3<3,>=1.21.1 in /usr/local/lib/python3.10/dist-packages (from requests<3.0.0,>=2.13.0->spacy>=3.2.1->pyserini) (2.0.7)\n",
            "Requirement already satisfied: blis<0.8.0,>=0.7.8 in /usr/local/lib/python3.10/dist-packages (from thinc<8.3.0,>=8.2.2->spacy>=3.2.1->pyserini) (0.7.11)\n",
            "Requirement already satisfied: confection<1.0.0,>=0.0.1 in /usr/local/lib/python3.10/dist-packages (from thinc<8.3.0,>=8.2.2->spacy>=3.2.1->pyserini) (0.1.4)\n",
            "Requirement already satisfied: click<9.0.0,>=7.1.1 in /usr/local/lib/python3.10/dist-packages (from typer<0.10.0,>=0.3.0->spacy>=3.2.1->pyserini) (8.1.7)\n",
            "Requirement already satisfied: cloudpathlib<0.17.0,>=0.7.0 in /usr/local/lib/python3.10/dist-packages (from weasel<0.4.0,>=0.1.0->spacy>=3.2.1->pyserini) (0.16.0)\n",
            "Requirement already satisfied: humanfriendly>=9.1 in /usr/local/lib/python3.10/dist-packages (from coloredlogs->onnxruntime>=1.8.1->pyserini) (10.0)\n",
            "Requirement already satisfied: MarkupSafe>=2.0 in /usr/local/lib/python3.10/dist-packages (from jinja2->spacy>=3.2.1->pyserini) (2.1.5)\n",
            "Requirement already satisfied: mpmath>=0.19 in /usr/local/lib/python3.10/dist-packages (from sympy->onnxruntime>=1.8.1->pyserini) (1.3.0)\n"
          ]
        }
      ],
      "source": [
        "#安裝套件\n",
        "!pip install pyserini"
      ]
    },
    {
      "cell_type": "code",
      "execution_count": 2,
      "metadata": {
        "colab": {
          "base_uri": "https://localhost:8080/"
        },
        "id": "wqDlXZUsQcwP",
        "outputId": "aea84c3c-d291-4369-8399-72b224266e49"
      },
      "outputs": [
        {
          "output_type": "stream",
          "name": "stdout",
          "text": [
            "Drive already mounted at /content/drive; to attempt to forcibly remount, call drive.mount(\"/content/drive\", force_remount=True).\n"
          ]
        },
        {
          "output_type": "stream",
          "name": "stderr",
          "text": [
            "<ipython-input-2-bf872ee8de7e>:6: ParserWarning: Falling back to the 'python' engine because the 'c' engine does not support regex separators (separators > 1 char and different from '\\s+' are interpreted as regex); you can avoid this warning by specifying engine='python'.\n",
            "  data = pd.read_csv('/content/drive/MyDrive/Colab Notebooks/IR/train.txt', sep=\"\\n#\", header=None)\n"
          ]
        }
      ],
      "source": [
        "import pandas as pd\n",
        "from google.colab import drive\n",
        "\n",
        "#檢查資料\n",
        "drive.mount('/content/drive')\n",
        "data = pd.read_csv('/content/drive/MyDrive/Colab Notebooks/IR/train.txt', sep=\"\\n#\", header=None)"
      ]
    },
    {
      "cell_type": "code",
      "execution_count": 3,
      "metadata": {
        "colab": {
          "base_uri": "https://localhost:8080/"
        },
        "id": "IwzxRUFfgCmV",
        "outputId": "8995760d-243c-4cbd-c408-e02c3f40f885"
      },
      "outputs": [
        {
          "output_type": "stream",
          "name": "stderr",
          "text": [
            "100%|██████████| 2402515/2402515 [02:12<00:00, 18141.54it/s]\n"
          ]
        }
      ],
      "source": [
        "import json\n",
        "import os.path\n",
        "from tqdm import tqdm\n",
        "\n",
        "pubmed_df = pd.DataFrame(columns=['id', 'content'])\n",
        "count = 0\n",
        "content = \"\"\n",
        "id = \"\"\n",
        "for i in tqdm(range(len(data[0]))):\n",
        "  row = data[0][i]\n",
        "  # 處理特殊字元\n",
        "  if '###' in row:\n",
        "    id = row.split('###')[1]\n",
        "    content = \"\"\n",
        "  # 單字整合成content\n",
        "  else:\n",
        "    row = row.replace(\"\\t\",\" \")\n",
        "    row = row.split(' ')[1:]\n",
        "\n",
        "    for word in row:\n",
        "      content += (word + \" \")\n",
        "\n",
        "    if i == len(data[0]) - 1 or '###' in data[0][i+1]:\n",
        "      output = {\n",
        "          \"id\": id,\n",
        "          \"contents\": content\n",
        "      }\n",
        "\n",
        "      file_path = 'tests/resources/'+ str(id) +'.json'\n",
        "\n",
        "      # 確保資料夾存在，如果不存在則創建\n",
        "      os.makedirs(os.path.dirname(file_path), exist_ok=True)\n",
        "\n",
        "      # 將資料寫入 JSON 檔案\n",
        "      with open(file_path, \"w\") as t:\n",
        "          json.dump(output, t)\n",
        "      count += 1\n",
        "\n"
      ]
    },
    {
      "cell_type": "markdown",
      "source": [
        "1. 使用 Python 命令執行 Pyserini 中的 index.lucene 模組\n",
        "1. 指定要索引的文檔類型為 JSON 格式\n",
        "1. 指定要索引的文檔目錄\n",
        "1. 指定索引的輸出目錄和名稱\n",
        "1. 指定文檔索引時使用的生成器。在此情況下，使用默認的 Lucene 文檔生成器\n",
        "1. 指定用於索引的線程數。在此情況下，使用單線程\n",
        "1. 指定存儲索引中的位置信息、文檔向量和原始文檔的選項\n"
      ],
      "metadata": {
        "id": "NHHS_mD7RJ7O"
      }
    },
    {
      "cell_type": "code",
      "source": [
        "!python -m pyserini.index.lucene \\\n",
        "  --collection JsonCollection \\\n",
        "  --input tests/resources \\\n",
        "  --index indexes/sample_collection_jsonl \\\n",
        "  --generator DefaultLuceneDocumentGenerator \\\n",
        "  --threads 1 \\\n",
        "  --storePositions --storeDocvectors --storeRaw\n",
        "\n",
        "!pip install faiss-cpu\n",
        "!apt-get purge openjdk-\\* -qq > /dev/null\n",
        "!apt-get autoremove -qq > /dev/null\n",
        "!apt-get autoclean -qq > /dev/null\n",
        "!apt-get install openjdk-21-jdk-headless -qq > /dev/nul\n",
        "import os\n",
        "os.environ[\"JAVA_HOME\"] = \"/usr/lib/jvm/java-21-openjdk-amd64\""
      ],
      "metadata": {
        "colab": {
          "base_uri": "https://localhost:8080/"
        },
        "id": "TSx4zlN3IPjv",
        "outputId": "f7dd28ae-bdc6-4505-f471-1e6ecde69be1"
      },
      "execution_count": 4,
      "outputs": [
        {
          "output_type": "stream",
          "name": "stdout",
          "text": [
            "2024-04-17 06:41:34,645 INFO  [main] index.AbstractIndexer (AbstractIndexer.java:204) - Setting log level to INFO\n",
            "2024-04-17 06:41:34,648 INFO  [main] index.AbstractIndexer (AbstractIndexer.java:207) - ============ Loading Index Configuration ============\n",
            "2024-04-17 06:41:34,648 INFO  [main] index.AbstractIndexer (AbstractIndexer.java:208) - AbstractIndexer settings:\n",
            "2024-04-17 06:41:34,648 INFO  [main] index.AbstractIndexer (AbstractIndexer.java:209) -  + DocumentCollection path: tests/resources\n",
            "2024-04-17 06:41:34,649 INFO  [main] index.AbstractIndexer (AbstractIndexer.java:210) -  + CollectionClass: JsonCollection\n",
            "2024-04-17 06:41:34,649 INFO  [main] index.AbstractIndexer (AbstractIndexer.java:211) -  + Index path: indexes/sample_collection_jsonl\n",
            "2024-04-17 06:41:34,650 INFO  [main] index.AbstractIndexer (AbstractIndexer.java:212) -  + Threads: 1\n",
            "2024-04-17 06:41:34,650 INFO  [main] index.AbstractIndexer (AbstractIndexer.java:213) -  + Optimize (merge segments)? false\n",
            "Apr 17, 2024 6:41:34 AM org.apache.lucene.store.MemorySegmentIndexInputProvider <init>\n",
            "INFO: Using MemorySegmentIndexInput with Java 21; to disable start with -Dorg.apache.lucene.store.MMapDirectory.enableMemorySegments=false\n",
            "2024-04-17 06:41:34,696 INFO  [main] index.IndexCollection (IndexCollection.java:246) - Using DefaultEnglishAnalyzer\n",
            "2024-04-17 06:41:34,697 INFO  [main] index.IndexCollection (IndexCollection.java:247) - Stemmer: porter\n",
            "2024-04-17 06:41:34,698 INFO  [main] index.IndexCollection (IndexCollection.java:248) - Keep stopwords? false\n",
            "2024-04-17 06:41:34,701 INFO  [main] index.IndexCollection (IndexCollection.java:249) - Stopwords file: null\n",
            "2024-04-17 06:41:34,873 INFO  [main] index.IndexCollection (IndexCollection.java:197) - IndexCollection settings:\n",
            "2024-04-17 06:41:34,873 INFO  [main] index.IndexCollection (IndexCollection.java:198) -  + Generator: DefaultLuceneDocumentGenerator\n",
            "2024-04-17 06:41:34,874 INFO  [main] index.IndexCollection (IndexCollection.java:199) -  + Language: en\n",
            "2024-04-17 06:41:34,874 INFO  [main] index.IndexCollection (IndexCollection.java:200) -  + Stemmer: porter\n",
            "2024-04-17 06:41:34,874 INFO  [main] index.IndexCollection (IndexCollection.java:201) -  + Keep stopwords? false\n",
            "2024-04-17 06:41:34,875 INFO  [main] index.IndexCollection (IndexCollection.java:202) -  + Stopwords: null\n",
            "2024-04-17 06:41:34,875 INFO  [main] index.IndexCollection (IndexCollection.java:203) -  + Store positions? true\n",
            "2024-04-17 06:41:34,875 INFO  [main] index.IndexCollection (IndexCollection.java:204) -  + Store docvectors? true\n",
            "2024-04-17 06:41:34,876 INFO  [main] index.IndexCollection (IndexCollection.java:205) -  + Store document \"contents\" field? false\n",
            "2024-04-17 06:41:34,876 INFO  [main] index.IndexCollection (IndexCollection.java:206) -  + Store document \"raw\" field? true\n",
            "2024-04-17 06:41:34,877 INFO  [main] index.IndexCollection (IndexCollection.java:207) -  + Additional fields to index: []\n",
            "2024-04-17 06:41:34,877 INFO  [main] index.IndexCollection (IndexCollection.java:208) -  + Whitelist: null\n",
            "2024-04-17 06:41:34,877 INFO  [main] index.IndexCollection (IndexCollection.java:209) -  + Pretokenized?: false\n",
            "2024-04-17 06:41:34,878 INFO  [main] index.IndexCollection (IndexCollection.java:210) -  + Codec: Lucene99\n",
            "2024-04-17 06:41:34,878 INFO  [main] index.AbstractIndexer (AbstractIndexer.java:237) - ============ Indexing Collection ============\n",
            "2024-04-17 06:41:35,894 INFO  [main] index.AbstractIndexer (AbstractIndexer.java:246) - Thread pool with 1 threads initialized.\n",
            "2024-04-17 06:41:35,894 INFO  [main] index.AbstractIndexer (AbstractIndexer.java:247) - 190,655 files found in tests/resources\n",
            "2024-04-17 06:41:35,894 INFO  [main] index.AbstractIndexer (AbstractIndexer.java:248) - Starting to index...\n",
            "2024-04-17 06:42:37,263 INFO  [main] index.AbstractIndexer (AbstractIndexer.java:260) - 69.67% of files completed, 132,835 documents indexed\n",
            "2024-04-17 06:43:08,649 INFO  [main] index.AbstractIndexer (AbstractIndexer.java:306) - Indexing Complete! 190,655 documents indexed\n",
            "2024-04-17 06:43:08,653 INFO  [main] index.AbstractIndexer (AbstractIndexer.java:307) - ============ Final Counter Values ============\n",
            "2024-04-17 06:43:08,654 INFO  [main] index.AbstractIndexer (AbstractIndexer.java:308) - indexed:          190,655\n",
            "2024-04-17 06:43:08,654 INFO  [main] index.AbstractIndexer (AbstractIndexer.java:309) - unindexable:            0\n",
            "2024-04-17 06:43:08,662 INFO  [main] index.AbstractIndexer (AbstractIndexer.java:310) - empty:                  0\n",
            "2024-04-17 06:43:08,664 INFO  [main] index.AbstractIndexer (AbstractIndexer.java:311) - skipped:                0\n",
            "2024-04-17 06:43:08,664 INFO  [main] index.AbstractIndexer (AbstractIndexer.java:312) - errors:                 0\n",
            "2024-04-17 06:43:08,672 INFO  [main] index.AbstractIndexer (AbstractIndexer.java:315) - Total 190,655 documents indexed in 00:01:33\n",
            "Requirement already satisfied: faiss-cpu in /usr/local/lib/python3.10/dist-packages (1.8.0)\n",
            "Requirement already satisfied: numpy in /usr/local/lib/python3.10/dist-packages (from faiss-cpu) (1.25.2)\n"
          ]
        }
      ]
    },
    {
      "cell_type": "code",
      "execution_count": 16,
      "metadata": {
        "id": "2TaXfW6RpDfW",
        "colab": {
          "base_uri": "https://localhost:8080/"
        },
        "outputId": "767c64a6-bf24-402b-badc-4c9f4cc22c85"
      },
      "outputs": [
        {
          "output_type": "stream",
          "name": "stdout",
          "text": [
            "[<io.anserini.search.ScoredDoc at 0x7a98a2aff420 jclass=io/anserini/search/ScoredDoc jself=<LocalRef obj=0x5a2a73ccc67a at 0x7a98a2ca9a70>>, <io.anserini.search.ScoredDoc at 0x7a98a2aff1a0 jclass=io/anserini/search/ScoredDoc jself=<LocalRef obj=0x5a2a73ccc682 at 0x7a98a2ca9ad0>>, <io.anserini.search.ScoredDoc at 0x7a98a2aff150 jclass=io/anserini/search/ScoredDoc jself=<LocalRef obj=0x5a2a73ccc68a at 0x7a98a2ca9770>>, <io.anserini.search.ScoredDoc at 0x7a98a2affce0 jclass=io/anserini/search/ScoredDoc jself=<LocalRef obj=0x5a2a73ccc692 at 0x7a98a2ca9d90>>, <io.anserini.search.ScoredDoc at 0x7a98a2aff330 jclass=io/anserini/search/ScoredDoc jself=<LocalRef obj=0x5a2a73ccc69a at 0x7a98a2ca9f70>>, <io.anserini.search.ScoredDoc at 0x7a98a2aff920 jclass=io/anserini/search/ScoredDoc jself=<LocalRef obj=0x5a2a73ccc6a2 at 0x7a98a2caa010>>, <io.anserini.search.ScoredDoc at 0x7a98a2aff880 jclass=io/anserini/search/ScoredDoc jself=<LocalRef obj=0x5a2a73ccc6aa at 0x7a98a2caa190>>, <io.anserini.search.ScoredDoc at 0x7a98a2affba0 jclass=io/anserini/search/ScoredDoc jself=<LocalRef obj=0x5a2a73ccc6b2 at 0x7a98a2caa1f0>>, <io.anserini.search.ScoredDoc at 0x7a98a2aff380 jclass=io/anserini/search/ScoredDoc jself=<LocalRef obj=0x5a2a73ccc6ba at 0x7a98a2caa1d0>>, <io.anserini.search.ScoredDoc at 0x7a98a2aff9c0 jclass=io/anserini/search/ScoredDoc jself=<LocalRef obj=0x5a2a753f1d3a at 0x7a98a2ca9f50>>]\n",
            " 1 8562004 4.08770 \n",
            " {'id': '8562004', 'contents': \"To describe the sexual practices of high school students ; to describe the process of development of a school-based AIDS prevention program ; and to evaluate the effect of this program on students ' AIDS-related knowledge , attitudes and AIDS-preventive behaviors . A cluster-randomized , controlled trial with pretest/post-test evaluation was conducted in four demographically similar public high schools in a semi-urban district of Metro Manila , the Philippines . Of 845 high school students who participated in the baseline survey , 804 ( 95 % ) completed a postintervention questionnaire . An AIDS prevention program was developed by public high school teachers together with local AIDS experts , social scientists and health educators . The teacher-led AIDS program was designed to provide students with accurate information about AIDS , particularly in dispelling misconceptions about casual contagion , to foster positive attitudes towards people with AIDS and to develop skills aimed at clarifying values and assessing intended behavior . At baseline , 11 % of students ( 20 % of males and 4 % of females ) reported ever having had sexual intercourse ( mean age 14 years ) . Among these , condom use was low ( 24 % ) . After implementation of the AIDS prevention program , statistically significant effects favoring the intervention group were observed in knowledge and attitudes towards people with AIDS . While there was no statistically significant overall effect on intended preventive behavior , the program appeared to delay the students ' intended onset of sexual activity . A sizable number of Filipino high school students are sexually active but condom use is low . School-based AIDS prevention programs can be developed and implemented in developing countries with the assistance of school personnel to address sexual issues . Our program was successful in increasing AIDS-related knowledge and improving attitudes towards people with AIDS . Supplementation with other preventive activities may be needed to achieve lasting changes in students ' risk-taking behavior . \"}\n",
            " 2 15372170 4.08550 \n",
            " {'id': '15372170', 'contents': 'Systematic research on factors before the provision of hearing aids is scarce . In order to identify parameters which promote or impede the use of hearing aids , a questionnaire-based survey was conducted . A total of 35 randomly chosen , hard of hearing adults indicated for a hearing aid were examined . The importance of speech in quiet and in noise , wearing comfort , sound quality , appearance and costs , as well as expectations , willingness to use a hearing aid and reasons for and against provision were determined . Speech in noise and quiet were most important , followed by comfort of wearing and appearance of the aid . Expectations towards the hearing aids were in general high . The willingness to use hearing devices was positively affected by the expectation that it would improve quality of life and negatively by the amount of social activity of the person . The main reasons against the use of hearing aids were appearance and lack of confidence in hearing aid technology . This pilot-study identified several parameters which might affect willingness to use hearing aids . In particular , expectations towards the aids , personal attitude towards hearing and communication problems and the appearance of hearing aids should be subject to further examination . '}\n",
            " 3 8438003 4.07900 \n",
            " {'id': '8438003', 'contents': \"The purpose of this investigation was to determine the effect of an education unit on physical therapy students ' knowledge about acquired immunodeficiency syndrome ( AIDS ) , their attitudes toward patients with AIDS , and their willingness to treat patients who have AIDS . A sample of convenience of 103 entry-level undergraduate junior physical therapy students , aged 20 to 35 years ( mean = 22.1 , SD = 2.8 ) , from one class at one institution participated in this study . A two-group pretest-posttest with control group delayed-intervention design was used . Subjects were randomly assigned to either a group that received an AIDS education unit ( experimental group ) or a group that did not receive a special education unit ( control group ) . All subjects were pretested and posttested together with a modified version of the State University of New York at Buffalo School of Nursing AIDS Study Questionnaire . Willingness to treat patients who have AIDS was assessed based on self-report responses . After the pretest of both groups , the experimental group received an AIDS education unit followed by the posttest , whereas the control group received no AIDS education unit before the posttest . The experimental group showed significant improvement of knowledge , attitudes , and willingness to treat patients who have AIDS as a result of the AIDS education unit . The control group showed no significant change or a lowered score and thus a change in a nondesired direction . The results of this study confirm the effectiveness of an AIDS education program for physical therapy students at this institution . Further study of entry-level graduate physical therapy students , licensed physical therapists , and other allied health professionals is needed to determine whether the education of these groups can affect their knowledge and attitudes toward patients with AIDS . Improved knowledge and attitudes of the health care provider with an increased willingness to treat patients who have AIDS ensures these patients will receive optimal and appropriate health care . \"}\n",
            " 4 19366386 4.07000 \n",
            " {'id': '19366386', 'contents': 'To describe how clinicians use decision aids . A 98-patient factorial-design randomized trial of the Statin Choice decision vs. standard educational pamphlet ; each participant had a 1:4 chance of receiving the decision aid during the encounter with the clinician resulting in 22 eligible encounters . Two researchers working independently and in duplicate reviewed and coded the 22 encounter videos . Twenty-two patients with diabetes ( 57 % of them on statins ) and six endocrinologists working in a referral diabetes clinic randomly assigned to use the decision aid during the consultation . Proportion and nature of unintended use of the Statin Choice decision aid . We found eight encounters involving six clinicians who did not use the decision aid as intended either by not using it at all ( n = 5 ; one clinician did use the decision aid in three encounters ) , offering inaccurate quantitative and probabilistic information about the risks and benefits of statins ( n = 2 ) , or using the decision aid to advance the agenda that all patients with diabetes should take statin ( n = 1 ) . Clinicians used the decision aid as intended in all other encounters . Unintended decision aid use in the context of videotaped encounters in a practical randomized trial was common . These instances offer insights to researchers seeking to design and implement effective decision aids for use during the clinical visit , particularly when clinicians may prefer to proceed in ways that the decision aid apparently contradicts . '}\n",
            " 5 24096862 4.05870 \n",
            " {'id': '24096862', 'contents': 'The purpose of this study was to determine the effects of sequential versus simultaneous bilateral hearing aids fitting on patient compliance . Thirty-six older adults with hearing impairment participated in this study . Twelve were fitted with bilateral hearing aids simultaneously . The remaining participants were fitted sequentially : One hearing aid ( to the left or to the right ear ) was used initially ; 1 month later , the other ear was also fitted with a hearing aid for bilateral use . Self-reports on usefulness and compliance were elicited after the first and second months of hearing aid use . In addition , the number of hours the hearing aids were used was extracted from the data loggings of each device . Simultaneous fitting resulted in high levels of compliance and consistent usage throughout the study period . Sequential fitting resulted in abrupt reduction in compliance and hours of use once the second hearing aid was added , both in the clinical scoring and in the data loggings . Simultaneous fitting of bilateral hearing aids results in better compliance compared with sequential fitting . The addition of a second hearing aid after a relatively short period of monaural use may lead to inconsistent use of both hearing aids . '}\n",
            " 6 20003515 4.04680 \n",
            " {'id': '20003515', 'contents': 'Hearing impairment is the most common body system disability in veterans . In 2008 , nearly 520,000 veterans had a disability for hearing loss through the Department of Veterans Affairs ( VA ) . Changes in eligibility for hearing aid services , along with the aging population , contributed to a greater than 300 % increase in the number of hearing aids dispensed from 1996 to 2006 . In 2006 , the VA committed to having no wait times for patient visits while providing quality clinically-appropriate care . One approach to achieving this goal is the use of group visits as an alternative to individual visits . We sought to determine : 1 ) if group hearing aid fitting and follow-up visits were at least as effective as individual visits , and 2 ) whether group visits lead to cost savings through the six month period after the hearing aid fitting . We describe the rationale , design , and characteristics of the baseline cohort of the first randomized clinical trial to study the impact of group versus individual hearing aid fitting and follow-up visits . Participants were recruited from the VA Puget Sound Health Care System Audiology Clinic . Eligible patients had no previous hearing aid use and monaural or binaural air-conduction hearing aids were ordered at the evaluation visit . Participants were randomized to receive the hearing aid fitting and the hearing aid follow-up in an individual or group visit . The primary outcomes were hearing-related function , measured with the first module of the Effectiveness of Aural Rehabilitation ( Inner EAR ) , and hearing aid adherence . We tracked the total cost of planned and unplanned audiology visits over the 6-month interval after the hearing aid fitting . A cohort of 659 participants was randomized to receive group or individual hearing aid fitting and follow-up visits . Baseline demographic and self-reported health status and hearing-related measures were evenly distributed across the treatment arms.Outcomes after the 6-month follow-up period are needed to determine if group visits were as least as good as those for individual visits and will be reported in subsequent publication . NCT00260663 . '}\n",
            " 7 7700744 4.04680 \n",
            " {'id': '7700744', 'contents': \"Several educational theorists have suggested that young children are unlikely to benefit from detailed instruction regarding AIDS prevention because of inherent developmental cognitive limitations . This study aims to determine whether AIDS education in the elementary grades can advance young children 's understanding of this illness . A randomized , controlled trial was used to measure the impact of a 3-week , multifaceted AIDS education program on conceptual understanding , factual knowledge , and fears about AIDS in 189 students in grades kindergarten through 6th . The ASK ( AIDS Survey for Kids ) , a standardized , semistructured interview that measures conceptual understanding , factual information , and fears about AIDS , was administered before and after the intervention . Children in the intervention group , as compared to those in the control group , showed significant ( P < .0001 ) gains in their level of understanding of the concepts of causality and prevention of AIDS . These results were unaffected by controlling for grade , gender , race , socioeconomic status , and verbal fluency . The gains in children 's understanding of causality of AIDS represented at least 2 years ' growth in the level of conceptual sophistication and persisted at a follow-up evaluation several months later . After the intervention , more children ( P < .001 ) in the intervention group than in the control group accurately identified causes of AIDS in response to open-ended questions : germ/germ theory ( 41 % vs 13 % ) , mother-to-infant transmission ( 54 % vs 15 % ) , blood transmission ( 83 % vs 40 % ) , and sexual transmission ( 56 % vs 30 % ) . Fewer than half as many children in the intervention group responded incorrectly to each of five direct questions about transmission of HIV through casual contact . The intervention did not increase children 's fears about the illness . A short , developmentally based , multifaceted AIDS education program in the elementary grades can advance children 's conceptual understanding and factual knowledge about AIDS and decrease their misconceptions about casual contact as a means of acquiring the illness , without increasing their fears . Significant advances in conceptual understanding about AIDS can be achieved through direct educational interventions . \"}\n",
            " 8 7986415 4.03960 \n",
            " {'id': '7986415', 'contents': \"To test the effects of an HIV/AIDS education program . A quasi-experimental , nested cross-sectional design including baseline and 6-month follow-up surveys . Schools , stratified according to location , were randomly assigned to intervention ( n = 6 ) or comparison conditions ( n = 12 ) . Public primary schools in Arusha and Kilimanjaro regions , Tanzania . A total of 2026 sixth and seventh grade pupils ( average age , 14.0 years ) participated at baseline ( 85 % ) and 1785 at follow-up . The program was designed to reduce children 's risk of HIV infection and to improve their tolerance of and care for people with AIDS . Local teachers and health workers attended a 1-week training workshop before implementing the program over a 2-3-month period ( averaging 20 school hours per class ) . Self-reported exposure to AIDS information , communication regarding AIDS ; AIDS knowledge , attitudes towards people with AIDS , attitudes towards having sexual intercourse , subjective norms regarding sexual intercourse , and intention to engage in sexual intercourse . Following this program , intervention pupils reported significantly higher scores for the following outcome measures than pupils attending the comparison schools : AIDS information ( 13.1 versus 10.5 ; P = 0.0001 ) , AIDS communication ( 10.9 versus 7.8 ; P = 0.0001 ) AIDS knowledge ( 14.5 versus 11.5 ; P = 0.0001 ) , attitudes towards people with AIDS ( 9.0 versus 6.7 ; P = 0.0008 ) , subjective norms ( 45.5 versus 43.9 ; P = 0.011 ) , and intention ( 1.3 versus 1.4 ; P = 0.020 ) . No program effect was seen for attitudes towards sexual intercourse ( 47.0 versus 46.3 , P = 0.44 ) . These results indicate that it is feasible and effective to provide AIDS education for Tanzanian primary school children . \"}\n",
            " 9 15208230 4.03080 \n",
            " {'id': '15208230', 'contents': \"Although mnemonics are commonly used in medical education there are few data on their effectiveness . A RCT was undertaken to test the hypothesis that a new aide memoire , `` EMD-aide '' , would be superior to the conventional `` 4Hs +4 Ts '' mnemonic in facilitating recall of causes of electromechanical dissociation ( EMD ) among house officers . `` EMD-aide '' , organises causes of EMD by frequency of occurrence and ease of reversibility : four groups organised by shape , colour , position , numbering , clockwise sequence , and use of arrows . Eight hospitals were randomised in a controlled trial and 149 house officers were then recruited by telephone . Baseline ability to recall causes of EMD was recorded at one minute and overall . House officers were then sent a copy of either `` 4Hs +4 Ts '' or `` EMD-aide '' according to randomisation group . Recall ability was retested at one month . 68 of 80 and 51 of 69 house officers completed the study in the `` 4Hs +4 Ts '' and `` EMD-aide '' groups respectively ( NS ) with similar baseline recall . After intervention median number of recalled causes was greater in the `` EMD-aide '' group , eight compared with seven at one minute ( p = 0.034 ) and eight compared with seven overall , p = 0.067 . Recall of all eight causes was more common in `` EMD-aide '' group , 54 % compared with 35 % , p = 0.054 , and these house officers spent longer examining their aide memoire , p < 0.001 . `` EMD-aide '' may be superior to `` 4Hs +4 Ts '' in facilitating the recall of the causes of electromechanical dissociation . Educational psychology of medical learning and the use of aide memoires in general are worthy of further study . \"}\n",
            "10 23159252 4.02950 \n",
            " {'id': '23159252', 'contents': 'Shared decision making ( SDM ) is a widely recommended yet unproven strategy for increasing colorectal cancer ( CRC ) screening uptake . Previous trials of decision aids to increase SDM and CRC screening uptake have yielded mixed results . To assess the impact of decision aid-assisted SDM on CRC screening uptake . RCT . The study was conducted at an urban , academic safety-net hospital and community health center between 2005 and 2010 . Participants were asymptomatic , average-risk patients aged 50-75 years due for CRC screening . Study participants ( n = 825 ) were randomized to one of two intervention arms ( decision aid plus personalized risk assessment or decision aid alone ) or control arm . The interventions took place just prior to a routine office visit with their primary care providers . The primary outcome was completion of a CRC screening test within 12 months of the study visit . Logistic regression was used to identify predictors of test completion and mediators of the intervention effect . Analysis was completed in 2011 . Patients in the decision-aid group were more likely to complete a screening test than control patients ( 43.1 % vs 34.8 % , p = 0.046 ) within 12 months of the study visit ; conversely , test uptake for the decision aid and decision aid plus personalized risk assessment arms was similar ( 43.1 % vs 37.1 % , p = 0.15 ) . Assignment to the decision-aid arm ( AOR = 1.48 , 95 % CI = 1.04 , 2.10 ) , black race ( AOR = 1.52 , 95 % CI = 1.12 , 2.06 ) and a preference for a patient-dominant decision-making approach ( AOR = 1.55 , 95 % CI = 1.02 , 2.35 ) were independent determinants of test completion . Activation of the screening discussion and enhanced screening intentions mediated the intervention effect . Decision aid-assisted SDM has a modest impact on CRC screening uptake . A decision aid plus personalized risk assessment tool is no more effective than a decision aid alone . This study is registered at www.clinicaltrials.govNCT00251862 . '}\n"
          ]
        }
      ],
      "source": [
        "from pyserini.search.lucene import LuceneSearcher\n",
        "import time\n",
        "\n",
        "# 初始化 LuceneSearcher 並指定索引目錄\n",
        "searcher = LuceneSearcher('indexes/sample_collection_jsonl')\n",
        "\n",
        "start = time.time()\n",
        "# 進行搜索，搜索詞為 'cancer'，返回前 100 個結果\n",
        "hits = searcher.search('AIDS', k=10)\n",
        "print(hits)\n",
        "end = time.time()\n",
        "\n",
        "for i in range(len(hits)):\n",
        "    # 獲取文檔的檔名，此處假設檔名與文檔 ID 相同，並且位於指定目錄下的 resources 資料夾中\n",
        "    filename = '/content/tests/resources/'+str(hits[i].docid)+'.json'\n",
        "    f = open (filename, \"r\")\n",
        "\n",
        "    data = json.loads(f.read())\n",
        "    # 輸出搜索結果的文檔 ID、得分以及對應的內容\n",
        "    print(f'{i+1:2} {hits[i].docid:4} {hits[i].score:.5f} \\n {data}')\n",
        "\n"
      ]
    },
    {
      "cell_type": "code",
      "source": [
        "time_InvertedIndex = end - start\n",
        "print(\"執行時間：%f 秒\" % (time_InvertedIndex))"
      ],
      "metadata": {
        "colab": {
          "base_uri": "https://localhost:8080/"
        },
        "id": "iGGh0H9mOVBG",
        "outputId": "240efc58-c1ed-4430-a1ee-65a8fc1ccf18"
      },
      "execution_count": 11,
      "outputs": [
        {
          "output_type": "stream",
          "name": "stdout",
          "text": [
            "執行時間：0.066478 秒\n"
          ]
        }
      ]
    },
    {
      "cell_type": "code",
      "source": [
        "import glob  # 導入 glob 模組，用於查找符合指定模式的檔案路徑\n",
        "\n",
        "searchKey = 'AIDS'\n",
        "\n",
        "results = []  # 建立空的列表，用於儲存符合條件的資料\n",
        "start = time.time()\n",
        "\n",
        "# 使用 glob 模組找到指定目錄下所有以 .json 結尾的檔案路徑\n",
        "all_file = glob.glob('/content/tests/resources/*.json')\n",
        "\n",
        "for filename in all_file:\n",
        "    with open(filename, 'r') as f:\n",
        "        json_data = json.load(f)\n",
        "        content = json_data['contents']\n",
        "        # 檢查搜索關鍵字是否在內容中\n",
        "        if searchKey in content:\n",
        "            results.append(json_data)\n",
        "\n",
        "end = time.time()\n",
        "\n",
        "for item in results[:10]:\n",
        "    print(item)\n",
        "    print()"
      ],
      "metadata": {
        "id": "0P3Zr4vvOl4C",
        "colab": {
          "base_uri": "https://localhost:8080/"
        },
        "outputId": "121c8f14-e972-4c2c-d017-4f303c8a0bbb"
      },
      "execution_count": 17,
      "outputs": [
        {
          "output_type": "stream",
          "name": "stdout",
          "text": [
            "{'id': '16511419', 'contents': 'To assess the efficacy of an innovative smoking cessation intervention targeted to a multiethnic , economically disadvantaged HIV-positive population . A two-group randomized clinical trial compared a smoking cessation intervention delivered by cellular telephone with usual care approach . Current smokers from a large , inner city HIV/AIDS care center were recruited and randomized to receive either usual care or a cellular telephone intervention . The usual care group received brief physician advice to quit smoking , targeted self-help written materials and nicotine replacement therapy . The cellular telephone intervention received eight counseling sessions delivered via cellular telephone in addition to the usual care components . Smoking-related outcomes were assessed at a 3-month follow-up . The trial had 95 participants and 77 ( 81.0 % ) completed the 3-month follow-up assessment . Analyses indicated biochemically verified point prevalence smoking abstinence rates of 10.3 % for the usual care group and 36.8 % for the cellular telephone group ; participants who received the cellular telephone intervention were 3.6 times ( 95 % confidence interval , 1.3-9 .9 ) more likely to quit smoking compared with participants who received usual care ( P = 0.0059 ) . These results suggest that individuals living with HIV/AIDS are receptive to , and can be helped by , smoking cessation treatment . In addition , smoking cessation treatment tailored to the special needs of individuals living with HIV/AIDS , such as counseling delivered by cellular telephone , can significantly increase smoking abstinence rates over that achieved by usual care . '}\n",
            "\n",
            "{'id': '9501747', 'contents': 'This study examined whether a selective serotonin reuptake inhibitor ( paroxetine ) had comparable efficacy but greater tolerability than a tricyclic antidepressant ( imipramine ) in depressed patients with HIV infection . Seventy-five HIV-positive patients ( 45 % of whom had AIDS ) were blindly and randomly assigned to receive paroxetine ( N = 25 ) , imipramine ( N = 25 ) , or placebo ( N = 25 ) in a 12-week trial . The Hamilton Anxiety Rating Scale , the Hamilton Depression Rating Scale , the Clinical Global Impression scale , and the SAFETEE general inquiry ( for safety and tolerability ) were administered at weeks 2 , 4 , 6 , 8 , and 12 . Fifty-six ( 75 % ) of the 75 patients completed 6 weeks and 34 ( 45 % ) completed 12 weeks of the trial . The mean daily doses of both paroxetine ( 33.9 mg ) and imipramine ( 162.5 mg ) were significantly more effective than placebo ; they were comparably effective at weeks 6 , 8 , and 12 according to the intent-to-treat analysis and at week 8 according to the analysis for the subjects who completed the trial ( for them , only imipramine was superior to placebo at week 12 ) . There were significantly more dropouts due to side effects from imipramine ( 48 % ) than from both paroxetine ( 20 % ) and placebo ( 24 % ) . Depressed patients with HIV infection responded to imipramine or paroxetine at a higher rate than to placebo irrespective of severity of immunosuppression . Because paroxetine was much better tolerated than imipramine , its overall effectiveness may be greater . However , because of the small study group and the high attrition rate , these findings can not be generalized and may need replication in a larger study group . '}\n",
            "\n",
            "{'id': '1649971', 'contents': 'Most strains of herpes simplex virus that are resistant to acyclovir are susceptible in vitro to both foscarnet and vidarabine . We conducted a randomized trial to compare foscarnet with vidarabine in 14 patients with the acquired immunodeficiency syndrome ( AIDS ) and mucocutaneous herpetic lesions that had been unresponsive to intravenous therapy with acyclovir for a minimum of 10 days . The patients were randomly assigned to receive either foscarnet ( 40 mg per kilogram of body weight intravenously every 8 hours ) or vidarabine ( 15 mg per kilogram per day intravenously ) for 10 to 42 days . In the isolates of herpes simplex virus we documented in vitro resistance to acyclovir and susceptibility to foscarnet and vidarabine . The lesions in all eight patients assigned to foscarnet healed completely after 10 to 24 days of therapy . In contrast , vidarabine was discontinued because of failure in all six patients assigned to receive it . The time to complete healing ( P = 0.01 ) , time to 50 percent reductions in the size of the lesions ( P = 0.01 ) and the pain score ( P = 0.004 ) , and time to the end of viral shedding ( P = 0.006 ) were all significantly shorter in the patients assigned to foscarnet . Three patients had new neurologic abnormalities while receiving vidarabine . No patient discontinued foscarnet because of toxicity . Although initial recurrences of herpes simplex infection after the index lesion had healed tended to be susceptible to acyclovir , acyclovir-resistant infection eventually recurred in every healed patient , a median of 42.5 days ( range , 14 to 191 ) after foscarnet was discontinued . For the treatment of acyclovir-resistant herpes simplex infection in patients with AIDS , foscarnet has superior efficacy and less frequent serious toxicity than vidarabine . Once the treatment is stopped , however ; there is a high frequency of relapse . '}\n",
            "\n",
            "{'id': '10197378', 'contents': 'As HIV has spread through sub-Saharan Africa , persistent diarrhoea has emerged as a major problem in hospitals and in the community in severely affected areas . We have previously demonstrated that antiprotozoal therapy with albendazole reduces diarrhoea in AIDS patients in urban Zambia . This trial was designed to test the hypothesis that the clinical response to albendazole might be improved by oral micronutrient supplementation . Randomized , placebo-controlled trial . Home care service of Ndola Central Hospital , Zambia . HIV-seropositive patients with persistent diarrhoea . Patients were randomized to albendazole plus vitamins A , C and E , selenium and zinc orally or albendazole plus placebo , for 2 weeks . Time with diarrhoea following completion of treatment ; mortality ; adverse events . Serum vitamin A and E concentrations before treatment were powerful predictors of early mortality , but supplementation did not reduce time with diarrhoea or mortality during the first month , even after taking into account initial vitamin A or E concentrations , CD4 cell count or clinical markers of illness severity . Serum concentrations of vitamins A and E did not increase significantly in supplemented patients compared with those given placebo , and there were no changes in CD4 cell count or haematological parameters . No adverse events were detected except those attributable to underlying disease . Although micronutrient deficiency is predictive of early death in Zambian patients with the diarrhoea-wasting syndrome , short-term oral supplementation does not overcome it nor influence morbidity or mortality . '}\n",
            "\n",
            "{'id': '9183320', 'contents': 'The purpose of this study was to compare two enteral formulas , differing only in fat source , for product acceptance , tolerance , and effect on fat malabsorption and nutritional status in subjects with acquired immune deficiency syndrome ( AIDS ) . The double-blind , randomized 15-day trial was divided into a 3-day period in which solid food was consumed followed by a 12-day experimental period in which liquid formulas were consumed . Twenty-three men and one woman with AIDS and fat malabsorption completed the study . The study was conducted in the General Clinical Research Center , University of Alabama Hospital , University of Alabama at Birmingham . Laboratory assays were performed in the Department of Nutrition Sciences . After 3 days of consuming a controlled , solid food diet containing 100 g fat per day from mixed sources to document fat malabsorption , subjects were randomly assigned to one of two groups . Each group received a liquid formula containing 35 % of energy as fat for 12 days . One group received a formula containing 85 % medium-chain triglycerides ( MCTs ) and the control group received a formula containing 100 % long-chain triglycerides . Determinations included stool number , consistency , weight , and fat and nitrogen content ; urine nitrogen and creatinine levels ; and body weight . Subject demographic and other baseline characteristics were compared using two-sample t tests ; stool and urine assessments were compared between groups at the initial experimental period using two-sample t tests ; changes from initial to final experimental periods were assessed by means of analysis of covariance ; changes in pooled intake , body weight , and the number and consistency of bowel movements were also assessed using analysis of covariance . All statistical tests were two-tailed and considered significant at P < .05 . Within-group comparisons indicated that subjects fed the MCT formula showed significantly decreased stool fat and stool nitrogen content ( P = .01 and P = .03 , respectively ) and increased fat absorption ( P = .03 ) , whereas those fed the control formula did not . Differences in stool fat between the groups were not statistically significant . However , the difference in fat absorption from the initial to final formula period was significant ( P = .04 ) . Subjects consuming the MCT formula also tended to have a decreased number of bowel movements and abdominal symptoms , whereas subjects fed the control formula showed no improvement . All subjects maintained their body weights . There may be advantages to using an MCT-based formula in the treatment of AIDS-associated malabsorption . '}\n",
            "\n",
            "{'id': '24134367', 'contents': \"We assessed the effectiveness of P4 for Women , a faith-based HIV intervention . We used a 2-arm comparative effectiveness trial involving 134 African American women aged 18 to 34 years to compare the effectiveness of the Centers for Disease Control and Prevention-defined evidence-based Sisters Informing Sisters about Topics on AIDS ( SISTA ) HIV intervention with P4 for Women , an adapted faith-based version of SISTA . Participants were recruited from a large black church in Atlanta , Georgia , and completed assessments at baseline and follow-up . Both SISTA and P4 for Women had statistically significant effects on this study 's primary outcome-consistent condom use in the past 90 days-as well as other sexual behaviors . However , P4 for Women also had statistically significant effects on the number of weeks women were abstinent , on all psychosocial mediators , and most noteworthy , on all measures of religious social capital . Results were achieved by enhancing structural social capital through ministry participation , religious values and norms , linking trust and by reducing negative religious coping . High intervention attendance may indicate the feasibility of conducting faith-based HIV prevention research for African American women . P4 for Women enhanced abstinence and safer sex practices as well as religious social capital , and was more acceptable than SISTA . Such efforts may assist faith leaders in responding to the HIV epidemic in African American women . \"}\n",
            "\n",
            "{'id': '18627504', 'contents': 'To determine if chlorhexidine can be used as an intervention to prolong the time to relapse of oral candidiasis . A double-blinded randomized clinical trial was performed in 75 HIV/AIDS subjects with oral candidiasis . Clotrimazole troche was prescribed , and the subjects were re-examined every 2 weeks until the lesions were completely eradicated . The subjects were then randomly divided into two groups ; 0.12 % chlorhexidine ( n = 37 , aged 22-52 years , mean 34 years ) and 0.9 % normal saline ( n = 38 , aged 22-55 years , mean 38 years ) . They were re-examined every 2 weeks until the next episode was observed . The time to recurrence of oral candidiasis between the chlorhexidine and the saline group was not statistically significant ( P > 0.05 ) . The following variables were significantly associated with the time of recurrence ; frequency of antifungal therapy ( P = 0.011 ) , total lymphocyte ( P = 0.017 ) , alcohol consumption ( P = 0.043 ) , and candidiasis on gingiva ( P = 0.048 ) . The subjects with lower lymphocyte showed shorter oral candidiasis-free periods ( P = 0.034 ) . Chlorhexidine showed a small but not statistically significant effect in maintenance of oral candidiasis-free period . This lack of significance may be due to the small sample size . Further study should be performed to better assess the size of the effect , or to confirm our findings . '}\n",
            "\n",
            "{'id': '2024862', 'contents': 'To assess the safety and efficacy of aerosol pentamidine for secondary prophylaxis of Pneumocystis carinii pneumonia in patients with the acquired immunodeficiency syndrome ( AIDS ) . Patients recovering from a first confirmed episode of AIDS-related P. carinii pneumonia who had no evidence of either another active AIDS-defining opportunistic infection or another pulmonary abnormality were considered eligible for the study but were included only if they had received no immunomodulators or antiretroviral agents other than zidovudine within 30 days of entry . One hundred sixty-two patients were randomized and started on the study drug . Patients were randomly assigned to receive aerosol pentamidine , 60 mg per dose , or placebo , delivered using a hand-held , patient-triggered , ultrasonic nebulizer . The induction phase of treatment consisted of 5 doses over 14 days , followed by a maintenance phase beginning on day 21 and consisting of one dose every 2 weeks . Thirty-two cases of P. carinii pneumonia were diagnosed before the termination of the trial ; 27 cases occurred among 78 patients receiving placebo and 5 occurred among 84 patients receiving aerosol pentamidine . Estimates of the cumulative relapse rate of P. carinii pneumonia by 24 weeks were 50 % and 9 % for the placebo and pentamidine groups , respectively ( P less than 0.001 ) . Adverse reactions attributed to the study drug occurred in 15 of 78 patients receiving placebo and in 28 of 84 patients receiving pentamidine ( P = 0.04 ) . These were all mild or moderate in severity and did not preclude continued administration of the study drug . Intermittent therapy with aerosol pentamidine is highly effective and well tolerated as secondary prophylaxis for AIDS-related P. carinii pneumonia . '}\n",
            "\n",
            "{'id': '9211677', 'contents': 'Sustained-release , intraocular implants that deliver ganciclovir are an alternative method for the treatment of cytomegalovirus retinitis in patients with the acquired immunodeficiency syndrome ( AIDS ) . We conducted a randomized study of 188 patients with AIDS and newly diagnosed cytomegalovirus retinitis . The patients were randomly assigned to treatment with an implant delivering 1 microg of ganciclovir per hour , an implant delivering 2 microg of ganciclovir per hour , or intravenous ganciclovir . The primary outcome we studied was progression of cytomegalovirus retinitis . The median time to progression of retinitis was 221 days with the 1-microg-per-hour implant ( 75 eyes ) , 191 days with the 2-microg-per-hour implant ( 71 eyes ) , and 71 days with ganciclovir administered intravenously ( 76 eyes ; P < 0.001 ) . The risk of progression of retinitis was almost three times as great among patients treated with intravenous ganciclovir as among those treated with a ganciclovir implant ( risk ratio , 2.8 ; P < 0.001 ) . However , the risk of disease in the initially uninvolved eye was lower with intravenous ganciclovir than with a ganciclovir implant ( risk ratio , 0.5 ; P = 0.19 ) . Patients treated with intravenous ganciclovir were also less likely to have extraocular cytomegalovirus infections ( 0 , vs. 10.3 percent in the two implant groups ; P = 0.04 ) . For the treatment of cytomegalovirus retinitis , the sustained-release ganciclovir implant is more effective than intravenous ganciclovir , but patients treated with a ganciclovir implant alone remain at greater risk for the development of cytomegalovirus disease outside of the treated eye . '}\n",
            "\n",
            "{'id': '15634033', 'contents': 'Delavirdine is a non-nucleoside reverse transcriptase inhibitor used in combination regimens for the treatment of HIV-1 infection . Our objective was to characterise the population pharmacokinetics of delavirdine in HIV-infected patients who participated in the adult AIDS Clinical Trials Group ( ACTG ) 260 and 261 studies . ACTG 261 was a randomised , double-blind study of delavirdine 400mg three times daily , in various combination regimens ; ACTG 260 was a concentration-targeted monotherapy study . Two hundred and thirty-four patients , and 1254 and 1251 plasma concentrations for delavirdine and N-delavirdine , respectively , were available for population pharmacokinetic analysis . The pharmacokinetic model ( and initial parameters ) , based on previous studies , included two compartments for delavirdine ( peripheral and central ) and parallel clearance pathways ( nonlinear conversion to N-delavirdine and first order clearance from the body ) . The model was one compartment for N-delavirdine with first order clearance . Diurnal variation of delavirdine and N-delavirdine oral clearance was modelled as a cosine function , with amplitude variation a fitted parameter . Pharmacokinetic parameter estimates were derived from iterative two-stage analysis ; observed delavirdine and N-delavirdine concentrations fit with weighting by the inverse observation variance . Covariates were analysed by multiple general linear modelling . The mean ( percent coefficient of variation [ % CV ] ) CD4 count was 315 ( 109 ) cells/mm ( 3 ) , weight 76.9 ( 14.7 ) kg , age 37 ( 8.5 ) years , and 15 % of the population were women . Mean ( % CV ) population pharmacokinetic parameter estimates for delavirdine were : volume of distribution at steady state 67.6 ( 100 ) L , intrinsic oral clearance 19.8 ( 64 ) L/h , concentration at half the maximum velocity of metabolism ( V ( max ) ) 6.3 ( 69 ) micromol/L and first order oral clearance 0.57 ( 86 ) L/h . For N-delavirdine , the mean ( % CV ) apparent volume of distribution was 24.7 ( 75 ) L and apparent clearance 29.7 ( 42 ) L/h . The mean V ( max ) was 1376 ( 68 ) mg/day . The final model for average intrinsic clearance of delavirdine included race , sex , weight and age as significant covariates ( p < 0.05 ) ; however , these covariates do not explain a significant proportion of the overall variability in the population . Delavirdine disposition exhibits nonlinear pharmacokinetics and large interpatient variability , and is significantly altered by time of day ( impacting potential therapeutic drug monitoring and future pharmacokinetic study designs ) . Although race and sex appear to influence delavirdine pharmacokinetics , men and women and patients of different races should receive similar mg/kg dosage regimens . The presence of large interpatient variability supports the further investigation of the utility of therapeutic drug monitoring for delavirdine , if target drug concentrations can be better defined . '}\n",
            "\n"
          ]
        }
      ]
    },
    {
      "cell_type": "code",
      "source": [
        "# 輸出執行時間\n",
        "excute_time = end - start\n",
        "print(\"執行時間：%f 秒\" % (excute_time))\n",
        "print(\"Inverted index 搜尋的時間:\" + str(time_InvertedIndex) + \"秒\")\n",
        "print(\"暴力搜尋時間:\" + str(excute_time) + \"秒\")\n",
        "print(\"相差:\" + str(excute_time - time_InvertedIndex) + \"秒\")"
      ],
      "metadata": {
        "colab": {
          "base_uri": "https://localhost:8080/"
        },
        "id": "-rHxHfIOUgIl",
        "outputId": "53bd57f6-6f3b-4bb3-db06-9ec93d0fbc6e"
      },
      "execution_count": 13,
      "outputs": [
        {
          "output_type": "stream",
          "name": "stdout",
          "text": [
            "執行時間：7.788625 秒\n",
            "Inverted index 搜尋的時間:0.06647825241088867秒\n",
            "暴力搜尋時間:7.78862452507019秒\n",
            "相差:7.722146272659302秒\n"
          ]
        }
      ]
    },
    {
      "cell_type": "code",
      "source": [],
      "metadata": {
        "id": "j009z161QzCf"
      },
      "execution_count": 13,
      "outputs": []
    }
  ],
  "metadata": {
    "colab": {
      "provenance": []
    },
    "kernelspec": {
      "display_name": "Python 3",
      "name": "python3"
    },
    "language_info": {
      "name": "python"
    }
  },
  "nbformat": 4,
  "nbformat_minor": 0
}